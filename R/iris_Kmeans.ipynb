{
 "cells": [
  {
   "cell_type": "code",
   "execution_count": 1,
   "metadata": {},
   "outputs": [
    {
     "name": "stderr",
     "output_type": "stream",
     "text": [
      "Loading required package: lattice\n",
      "Loading required package: ggplot2\n"
     ]
    }
   ],
   "source": [
    "library(caret)"
   ]
  },
  {
   "cell_type": "markdown",
   "metadata": {},
   "source": [
    "# 데이터셋 나누기 7:3"
   ]
  },
  {
   "cell_type": "code",
   "execution_count": 4,
   "metadata": {},
   "outputs": [
    {
     "data": {
      "text/html": [
       "<ol class=list-inline>\n",
       "\t<li>105</li>\n",
       "\t<li>5</li>\n",
       "</ol>\n"
      ],
      "text/latex": [
       "\\begin{enumerate*}\n",
       "\\item 105\n",
       "\\item 5\n",
       "\\end{enumerate*}\n"
      ],
      "text/markdown": [
       "1. 105\n",
       "2. 5\n",
       "\n",
       "\n"
      ],
      "text/plain": [
       "[1] 105   5"
      ]
     },
     "metadata": {},
     "output_type": "display_data"
    },
    {
     "data": {
      "text/html": [
       "<ol class=list-inline>\n",
       "\t<li>45</li>\n",
       "\t<li>5</li>\n",
       "</ol>\n"
      ],
      "text/latex": [
       "\\begin{enumerate*}\n",
       "\\item 45\n",
       "\\item 5\n",
       "\\end{enumerate*}\n"
      ],
      "text/markdown": [
       "1. 45\n",
       "2. 5\n",
       "\n",
       "\n"
      ],
      "text/plain": [
       "[1] 45  5"
      ]
     },
     "metadata": {},
     "output_type": "display_data"
    }
   ],
   "source": [
    "inTrain <- createDataPartition(y = iris$Species, p = 0.7, list = F)\n",
    "training <- iris[inTrain,]\n",
    "testing <- iris[-inTrain,]\n",
    "dim(training); dim(testing)"
   ]
  },
  {
   "cell_type": "markdown",
   "metadata": {},
   "source": [
    "# 표준화"
   ]
  },
  {
   "cell_type": "code",
   "execution_count": 6,
   "metadata": {},
   "outputs": [
    {
     "data": {
      "text/plain": [
       "  Sepal.Length      Sepal.Width        Petal.Length      Petal.Width     \n",
       " Min.   :-1.8918   Min.   :-2.42390   Min.   :-1.5464   Min.   :-1.4461  \n",
       " 1st Qu.:-0.9543   1st Qu.:-0.65186   1st Qu.:-1.2150   1st Qu.:-1.1863  \n",
       " Median :-0.1339   Median : 0.01266   Median : 0.3314   Median : 0.1126  \n",
       " Mean   : 0.0000   Mean   : 0.00000   Mean   : 0.0000   Mean   : 0.0000  \n",
       " 3rd Qu.: 0.6864   3rd Qu.: 0.67717   3rd Qu.: 0.7180   3rd Qu.: 0.7620  \n",
       " Max.   : 2.3270   Max.   : 2.44921   Max.   : 1.7121   Max.   : 1.6713  "
      ]
     },
     "metadata": {},
     "output_type": "display_data"
    }
   ],
   "source": [
    "training.data <- scale(training[-5])\n",
    "summary(training.data)"
   ]
  },
  {
   "cell_type": "markdown",
   "metadata": {},
   "source": [
    "# 모델만들기"
   ]
  },
  {
   "cell_type": "code",
   "execution_count": 7,
   "metadata": {},
   "outputs": [
    {
     "data": {
      "text/html": [
       "<table>\n",
       "<thead><tr><th></th><th scope=col>Sepal.Length</th><th scope=col>Sepal.Width</th><th scope=col>Petal.Length</th><th scope=col>Petal.Width</th></tr></thead>\n",
       "<tbody>\n",
       "\t<tr><th scope=row>1</th><td>-0.07533578</td><td>-0.9656570 </td><td> 0.3221675 </td><td> 0.2460722 </td></tr>\n",
       "\t<tr><th scope=row>2</th><td>-1.01117352</td><td> 0.8543771 </td><td>-1.2891960 </td><td>-1.2382988 </td></tr>\n",
       "\t<tr><th scope=row>3</th><td> 1.12068120</td><td> 0.1429546 </td><td> 0.9859950 </td><td> 1.0141723 </td></tr>\n",
       "</tbody>\n",
       "</table>\n"
      ],
      "text/latex": [
       "\\begin{tabular}{r|llll}\n",
       "  & Sepal.Length & Sepal.Width & Petal.Length & Petal.Width\\\\\n",
       "\\hline\n",
       "\t1 & -0.07533578 & -0.9656570  &  0.3221675  &  0.2460722 \\\\\n",
       "\t2 & -1.01117352 &  0.8543771  & -1.2891960  & -1.2382988 \\\\\n",
       "\t3 &  1.12068120 &  0.1429546  &  0.9859950  &  1.0141723 \\\\\n",
       "\\end{tabular}\n"
      ],
      "text/markdown": [
       "\n",
       "| <!--/--> | Sepal.Length | Sepal.Width | Petal.Length | Petal.Width | \n",
       "|---|---|---|\n",
       "| 1 | -0.07533578 | -0.9656570  |  0.3221675  |  0.2460722  | \n",
       "| 2 | -1.01117352 |  0.8543771  | -1.2891960  | -1.2382988  | \n",
       "| 3 |  1.12068120 |  0.1429546  |  0.9859950  |  1.0141723  | \n",
       "\n",
       "\n"
      ],
      "text/plain": [
       "  Sepal.Length Sepal.Width Petal.Length Petal.Width\n",
       "1 -0.07533578  -0.9656570   0.3221675    0.2460722 \n",
       "2 -1.01117352   0.8543771  -1.2891960   -1.2382988 \n",
       "3  1.12068120   0.1429546   0.9859950    1.0141723 "
      ]
     },
     "metadata": {},
     "output_type": "display_data"
    }
   ],
   "source": [
    "iris.kmeans <- kmeans(training.data[,-5], centers = 3, iter.max = 10000)\n",
    "iris.kmeans$centers"
   ]
  },
  {
   "cell_type": "markdown",
   "metadata": {},
   "source": [
    "# 군집 확인"
   ]
  },
  {
   "cell_type": "code",
   "execution_count": 8,
   "metadata": {},
   "outputs": [
    {
     "data": {},
     "metadata": {},
     "output_type": "display_data"
    },
    {
     "data": {
      "image/png": "[encoded data removed]",
      "text/plain": [
       "plot without title"
      ]
     },
     "metadata": {},
     "output_type": "display_data"
    }
   ],
   "source": [
    "training$cluster <- as.factor(iris.kmeans$cluster)\n",
    "qplot(Petal.Width, Petal.Length, colour = cluster, data = training)"
   ]
  },
  {
   "cell_type": "code",
   "execution_count": 9,
   "metadata": {},
   "outputs": [
    {
     "data": {
      "text/plain": [
       "            \n",
       "              1  2  3\n",
       "  setosa      0 35  0\n",
       "  versicolor 27  0  8\n",
       "  virginica   9  0 26"
      ]
     },
     "metadata": {},
     "output_type": "display_data"
    }
   ],
   "source": [
    "table(training$Species, training$cluster)"
   ]
  },
  {
   "cell_type": "markdown",
   "metadata": {},
   "source": [
    "# 최적의 K 찾기"
   ]
  },
  {
   "cell_type": "code",
   "execution_count": 12,
   "metadata": {},
   "outputs": [
    {
     "name": "stdout",
     "output_type": "stream",
     "text": [
      "*** : The Hubert index is a graphical method of determining the number of clusters.\n",
      "                In the plot of Hubert index, we seek a significant knee that corresponds to a \n",
      "                significant increase of the value of the measure i.e the significant peak in Hubert\n",
      "                index second differences plot. \n",
      " \n"
     ]
    },
    {
     "data": {
      "image/png": "[encoded data removed]",
      "text/plain": [
       "plot without title"
      ]
     },
     "metadata": {},
     "output_type": "display_data"
    },
    {
     "name": "stdout",
     "output_type": "stream",
     "text": [
      "*** : The D index is a graphical method of determining the number of clusters. \n",
      "                In the plot of D index, we seek a significant knee (the significant peak in Dindex\n",
      "                second differences plot) that corresponds to a significant increase of the value of\n",
      "                the measure. \n",
      " \n",
      "******************************************************************* \n",
      "* Among all indices:                                                \n",
      "* 6 proposed 2 as the best number of clusters \n",
      "* 12 proposed 3 as the best number of clusters \n",
      "* 2 proposed 4 as the best number of clusters \n",
      "* 1 proposed 8 as the best number of clusters \n",
      "* 1 proposed 13 as the best number of clusters \n",
      "* 1 proposed 14 as the best number of clusters \n",
      "* 1 proposed 15 as the best number of clusters \n",
      "\n",
      "                   ***** Conclusion *****                            \n",
      " \n",
      "* According to the majority rule, the best number of clusters is  3 \n",
      " \n",
      " \n",
      "******************************************************************* \n"
     ]
    },
    {
     "data": {
      "image/png": "[encoded data removed]",
      "text/plain": [
       "plot without title"
      ]
     },
     "metadata": {},
     "output_type": "display_data"
    }
   ],
   "source": [
    "library(NbClust)\n",
    "\n",
    "nc <- NbClust(training.data, min.nc = 2, max.nc = 15, method = \"kmeans\")"
   ]
  },
  {
   "cell_type": "code",
   "execution_count": 13,
   "metadata": {},
   "outputs": [
    {
     "data": {
      "image/png": "[encoded data removed]",
      "text/plain": [
       "Plot with title \"Number of Clusters Chosen\""
      ]
     },
     "metadata": {},
     "output_type": "display_data"
    }
   ],
   "source": [
    "par(mfrow=c(1,1))\n",
    "barplot(table(nc$Best.n[1,]),\n",
    "        xlab=\"Numer of Clusters\", ylab=\"Number of Criteria\",\n",
    "        main=\"Number of Clusters Chosen\")"
   ]
  },
  {
   "cell_type": "markdown",
   "metadata": {},
   "source": [
    "3개가 가장 적당하다"
   ]
  },
  {
   "cell_type": "code",
   "execution_count": 14,
   "metadata": {},
   "outputs": [
    {
     "data": {
      "image/png": "[encoded data removed]",
      "text/plain": [
       "plot without title"
      ]
     },
     "metadata": {},
     "output_type": "display_data"
    }
   ],
   "source": [
    "wssplot <- function(data, nc = 15, seed = 1234) {\n",
    "  wss <- (nrow(data) - 1) * sum(apply(data, 2, var))\n",
    "  for (i in 2:nc) {\n",
    "    set.seed(seed)\n",
    "    wss[i] <- sum(kmeans(data, centers=i)$withinss)}\n",
    "  plot(1:nc, wss, type=\"b\", xlab = \"Number of Clusters\",\n",
    "       ylab = \"Within groups sum of squares\")}\n",
    "\n",
    "wssplot(training.data)"
   ]
  },
  {
   "cell_type": "markdown",
   "metadata": {},
   "source": [
    "# 최종 모델"
   ]
  },
  {
   "cell_type": "code",
   "execution_count": 15,
   "metadata": {},
   "outputs": [
    {
     "data": {
      "text/plain": [
       "               \n",
       "testClusterPred setosa versicolor virginica\n",
       "              1      0          9         6\n",
       "              2     15          0         0\n",
       "              3      0          6         9"
      ]
     },
     "metadata": {},
     "output_type": "display_data"
    }
   ],
   "source": [
    "training.data <- as.data.frame(training.data)\n",
    "modFit <- train(x = training.data[,-5], \n",
    "                y = training$cluster,\n",
    "                method = \"rpart\")\n",
    "\n",
    "testing.data <- as.data.frame(scale(testing[-5]))\n",
    "testClusterPred <- predict(modFit, testing.data) \n",
    "table(testClusterPred ,testing$Species)"
   ]
  },
  {
   "cell_type": "code",
   "execution_count": null,
   "metadata": {},
   "outputs": [],
   "source": []
  }
 ],
 "metadata": {
  "kernelspec": {
   "display_name": "R",
   "language": "R",
   "name": "ir"
  },
  "language_info": {
   "codemirror_mode": "r",
   "file_extension": ".r",
   "mimetype": "text/x-r-source",
   "name": "R",
   "pygments_lexer": "r",
   "version": "3.5.1"
  }
 },
 "nbformat": 4,
 "nbformat_minor": 2
}
