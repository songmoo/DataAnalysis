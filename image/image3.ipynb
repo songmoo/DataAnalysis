{
 "cells": [
  {
   "cell_type": "code",
   "execution_count": 2,
   "metadata": {},
   "outputs": [],
   "source": [
    "#http://www.birc.co.kr/2018/02/26/%EC%8B%A4%EC%A0%9C-%EC%9D%B4%EB%AF%B8%EC%A7%80-%EB%8D%B0%EC%9D%B4%ED%84%B0%EB%A5%BC-%ED%99%9C%EC%9A%A9%ED%95%9C-cnn-%EB%AA%A8%EB%8D%B8-%EA%B5%AC%ED%98%84%ED%95%98%EA%B8%B0/\n",
    "import os\n",
    "import cv2\n",
    "import numpy as np\n",
    "from sklearn.preprocessing import LabelEncoder\n",
    "from sklearn.preprocessing import OneHotEncoder\n",
    "from numpy import array"
   ]
  },
  {
   "cell_type": "code",
   "execution_count": 3,
   "metadata": {},
   "outputs": [],
   "source": [
    "TRAIN_DIR = 'C:/Users/ktm/Documents/My/trainingSet/'\n",
    "train_folder_list = array(os.listdir(TRAIN_DIR))"
   ]
  },
  {
   "cell_type": "code",
   "execution_count": 4,
   "metadata": {},
   "outputs": [],
   "source": [
    "train_input = []\n",
    "train_label = []"
   ]
  },
  {
   "cell_type": "code",
   "execution_count": 6,
   "metadata": {},
   "outputs": [],
   "source": [
    "label_encoder = LabelEncoder()  # LabelEncoder Class 호출\n",
    "integer_encoded = label_encoder.fit_transform(train_folder_list)\n",
    "onehot_encoder = OneHotEncoder(sparse=False) \n",
    "integer_encoded = integer_encoded.reshape(len(integer_encoded), 1)\n",
    "onehot_encoded = onehot_encoder.fit_transform(integer_encoded)"
   ]
  },
  {
   "cell_type": "code",
   "execution_count": 7,
   "metadata": {},
   "outputs": [
    {
     "data": {
      "text/plain": [
       "array([[1., 0., 0., 0., 0., 0., 0., 0., 0., 0.],\n",
       "       [0., 1., 0., 0., 0., 0., 0., 0., 0., 0.],\n",
       "       [0., 0., 1., 0., 0., 0., 0., 0., 0., 0.],\n",
       "       [0., 0., 0., 1., 0., 0., 0., 0., 0., 0.],\n",
       "       [0., 0., 0., 0., 1., 0., 0., 0., 0., 0.],\n",
       "       [0., 0., 0., 0., 0., 1., 0., 0., 0., 0.],\n",
       "       [0., 0., 0., 0., 0., 0., 1., 0., 0., 0.],\n",
       "       [0., 0., 0., 0., 0., 0., 0., 1., 0., 0.],\n",
       "       [0., 0., 0., 0., 0., 0., 0., 0., 1., 0.],\n",
       "       [0., 0., 0., 0., 0., 0., 0., 0., 0., 1.]])"
      ]
     },
     "execution_count": 7,
     "metadata": {},
     "output_type": "execute_result"
    }
   ],
   "source": [
    "onehot_encoded"
   ]
  },
  {
   "cell_type": "code",
   "execution_count": 8,
   "metadata": {},
   "outputs": [],
   "source": [
    "for index in range(len(train_folder_list)):\n",
    "    path = os.path.join(TRAIN_DIR, train_folder_list[index])\n",
    "    path = path + '/'\n",
    "    img_list = os.listdir(path)\n",
    "    for img in img_list:\n",
    "        img_path = os.path.join(path, img)\n",
    "        img = cv2.imread(img_path, cv2.IMREAD_GRAYSCALE)\n",
    "        train_input.append([np.array(img)])\n",
    "        train_label.append([np.array(onehot_encoded[index])])"
   ]
  },
  {
   "cell_type": "code",
   "execution_count": 9,
   "metadata": {},
   "outputs": [
    {
     "data": {
      "text/plain": [
       "array([[  0,   0,   0,   0,   0,   0,   0,   0,   0,   1,   3,   6,   5,\n",
       "          1,   0,   0,   1,   0,   0,   1,   0,   0,   0,   5,   0,   0,\n",
       "          0,   0],\n",
       "       [  0,   0,   0,   0,   0,   0,   0,   0,   9,   0,   0,   0,   0,\n",
       "          2,   0,   0,   3,   1,   2,   4,   4,   1,   0,   0,   0,   0,\n",
       "          0,   0],\n",
       "       [  0,   0,   0,   0,   0,   0,   0,   0,   2,   4,   3,   0,   0,\n",
       "          0,   0,   4,   0,   0,   0,   0,   1,   5,   4,   0,   0,   0,\n",
       "          0,   0],\n",
       "       [  0,   0,   0,   0,   0,   0,   0,   0,   0,   0,   2,   2,   0,\n",
       "          2,   4,   4,   1,   3,   0,   0,   0,   2,   3,   0,   0,   0,\n",
       "          0,   0],\n",
       "       [  0,   0,   0,   0,   0,   0,   0,   0,   7,   5,   0,   0,   0,\n",
       "          2,   0,   0,   3,   7,   7,   3,   0,   0,   0,   0,   0,   0,\n",
       "          0,   0],\n",
       "       [  0,   0,   0,   0,   0,   0,   0,   0,   0,   2,   5,   0,   0,\n",
       "          0,   9,  13,   0,   0,   0,   5,   7,   3,   0,   0,   0,   0,\n",
       "          0,   0],\n",
       "       [  0,   0,   0,   0,   0,   0,   0,   0,   0,   6,   7,   0,   0,\n",
       "          1,   0,   0,  18,   0,   0,   0,   6,   2,   0,   4,   0,   0,\n",
       "          0,   0],\n",
       "       [  0,   0,   0,   0,   0,   0,   0,   0,   2,   1,  23,  89, 183,\n",
       "        249, 248, 217,  73,  30,   0,   0,   2,   0,   0,   4,   0,   0,\n",
       "          0,   0],\n",
       "       [  0,   0,   2,   2,   0,   3,  12,   0,  19, 100, 193, 255, 245,\n",
       "        166, 254, 253, 255, 129,   0,   7,   0,   3,   9,   0,   0,   0,\n",
       "          0,   0],\n",
       "       [ 17,   0,   6,   0,   3,   0,   2,  91, 255, 255, 230, 119,  43,\n",
       "          0,   9,  72, 189, 253, 139,   0,   0,   0,  10,   0,   0,   0,\n",
       "          0,   0],\n",
       "       [  0,  12,   0,  13,   0,   3, 170, 255, 247, 214,  75,  14,   0,\n",
       "          0,   5,   6,  96, 240, 197,  60,   3,   8,   0,  14,   0,   0,\n",
       "          0,   0],\n",
       "       [  6,   0,   7,   9,   0,  99, 251, 248,  82,   2,   3,   0,   3,\n",
       "         20,   0,   0,   1,  95, 255, 250,  51,   7,   0,   0,   0,   0,\n",
       "          0,   0],\n",
       "       [  2,   0,   8,   2,   0, 116, 255, 247, 196,  92,  76,   6,   0,\n",
       "          0,   0,   7,  65, 142, 255, 250, 221,  53,   0,   7,   0,   0,\n",
       "          0,   0],\n",
       "       [  0,  19,   0,   0,   0,  36, 198, 255, 238, 255, 255, 232, 255,\n",
       "        248, 255, 249, 255, 255, 241, 255, 227,   0,   2,   0,   0,   0,\n",
       "          0,   0],\n",
       "       [ 15,   0,   7,   0,   4,  15,  15,  88, 155, 194, 255, 236, 252,\n",
       "        253, 227, 255, 177, 151,  76, 157, 255,  46,   1,   5,   0,   0,\n",
       "          0,   0],\n",
       "       [  0,   0,   1,   5,   0,   0,   3,   0,   7,   0,   0,  15,   3,\n",
       "          0,  13,   0,  10,   0,   0,  22, 248,  61,   0,   0,   0,   0,\n",
       "          0,   0],\n",
       "       [  0,   0,   0,   0,   0,   0,   0,   0,   2,   4,   0,   0,   4,\n",
       "          1,   0,   2,   0,  15,   0, 105, 248,  53,  11,   0,   0,   0,\n",
       "          0,   0],\n",
       "       [  0,   0,   0,   0,   0,   0,   0,   0,   0,   6,   8,   0,   0,\n",
       "          0,   0,   0,   0,   0,   0, 164, 255,  64,   0,  13,   0,   0,\n",
       "          0,   0],\n",
       "       [  0,   0,   0,   0,   0,   0,   0,   0,   0,   0,   0,   4,   4,\n",
       "         11,  11,   0,   8,  25,   0, 167, 252, 249,  33,   0,   0,   0,\n",
       "          0,   0],\n",
       "       [  0,   0,   0,   0,   0,   0,   0,   0,  10,   0,   0,   4,   0,\n",
       "          0,   0,   0,   0,   0,  60, 250, 235,  32,   3,   6,   0,   0,\n",
       "          0,   0],\n",
       "       [  0,   0,   0,   0,   0,   0,   0,   0,   1,   0,   1,   0,   0,\n",
       "          0,   6,  13,   7,   0, 240, 255, 121,   0,   5,   0,   0,   0,\n",
       "          0,   0],\n",
       "       [  0,   0,   0,   0,   0,   0,   0,   0,   0,   7,   2,   0,   8,\n",
       "         17,   2,   0,  22, 160, 255, 161,   4,   3,   1,   8,   0,   0,\n",
       "          0,   0],\n",
       "       [  0,   0,   0,   0,   0,   0,   0,   0,   0,  13,   0,   0,   7,\n",
       "          0,   0,   5, 164, 255, 182,   0,   0,  20,   0,   8,   0,   0,\n",
       "          0,   0],\n",
       "       [  0,   0,   0,   0,   0,   0,   0,   0,   0,   7,   0,   0,   9,\n",
       "          0,  44, 172, 255, 239,   0,   3,   8,   0,   3,   0,   0,   0,\n",
       "          0,   0],\n",
       "       [  0,   0,   0,   0,   0,   0,   0,   0,  11,   0,   0,  17,   0,\n",
       "          0, 208, 245, 228,  65,   0,  10,   5,   0,   2,   0,   0,   0,\n",
       "          0,   0],\n",
       "       [  0,   0,   0,   0,   0,   0,   0,   0,   0,   0,   5,   0,   0,\n",
       "        185, 238, 185,  37,   0,   0,   5,   0,   0,  12,   3,   0,   0,\n",
       "          0,   0],\n",
       "       [  0,   0,   0,   0,   0,   0,   0,   0,   1,   0,   0,   0,   6,\n",
       "        190,  98,   6,   0,   1,  11,   5,   0,   4,   7,   0,   0,   0,\n",
       "          0,   0],\n",
       "       [  0,   0,   0,   0,   0,   0,   0,   0,   0,   5,  12,  13,   0,\n",
       "         13,   0,   0,  11,   6,   0,   0,   0,   3,   0,   0,   0,   0,\n",
       "          0,   0]], dtype=uint8)"
      ]
     },
     "execution_count": 9,
     "metadata": {},
     "output_type": "execute_result"
    }
   ],
   "source": [
    "img"
   ]
  },
  {
   "cell_type": "code",
   "execution_count": null,
   "metadata": {},
   "outputs": [],
   "source": [
    "array([[  0,   0,   0,   0,   0,   0,   0,   0,   0,   1,   3,   6,   5,   1,   0,   0,    1,   0,   0,   1,   0,   0,   0,   5,   0,   0,   0,   0],\n",
    "       [  0,   0,   0,   0,   0,   0,   0,   0,   9,   0,   0,   0,   0,   2,   0,   0,    3,   1,   2,   4,   4,   1,   0,   0,   0,   0,   0,   0],\n",
    "       [  0,   0,   0,   0,   0,   0,   0,   0,   2,   4,   3,   0,   0,   0,   0,   4,    0,   0,   0,   0,   1,   5,   4,   0,   0,   0,   0,   0],\n",
    "       [  0,   0,   0,   0,   0,   0,   0,   0,   0,   0,   2,   2,   0,   2,   4,   4,    1,   3,   0,   0,   0,   2,   3,   0,   0,   0,   0,   0],\n",
    "       [  0,   0,   0,   0,   0,   0,   0,   0,   7,   5,   0,   0,   0,   2,   0,   0,    3,   7,   7,   3,   0,   0,   0,   0,   0,   0,   0,   0],\n",
    "       [  0,   0,   0,   0,   0,   0,   0,   0,   0,   2,   5,   0,   0,   0,   9,  13,    0,   0,   0,   5,   7,   3,   0,   0,   0,   0,   0,   0],\n",
    "       [  0,   0,   0,   0,   0,   0,   0,   0,   0,   6,   7,   0,   0,   1,   0,   0,    18,   0,   0,   0,   6,   2,   0,   4,   0,   0,   0,   0],\n",
    "       [  0,   0,   0,   0,   0,   0,   0,   0,   2,   1,  23,  89, 183,   249, 248, 217,  73,  30,   0,   0,   2,   0,   0,   4,   0,   0,   0,   0],\n",
    "       [  0,   0,   2,   2,   0,   3,  12,   0,  19, 100, 193, 255, 245,   166, 254, 253,  255, 129,   0,   7,   0,   3,   9,   0,   0,   0,   0,   0],\n",
    "       [ 17,   0,   6,   0,   3,   0,   2,  91, 255, 255, 230, 119,  43,   0,   9,  72, 1  89, 253, 139,   0,   0,   0,  10,   0,   0,   0,   0,   0],\n",
    "       [  0,  12,   0,  13,   0,   3, 170, 255, 247, 214,  75,  14,   0,   0,   5,   6,    96, 240, 197,  60,   3,   8,   0,  14,   0,   0,   0,   0],\n",
    "       [  6,   0,   7,   9,   0,  99, 251, 248,  82,   2,   3,   0,   3,   20,   0,   0,   1,  95, 255, 250,  51,   7,   0,   0,   0,   0,   0,   0],\n",
    "       [  2,   0,   8,   2,   0, 116, 255, 247, 196,  92,  76,   6,   0,   0,   0,   7,    65, 142, 255, 250, 221,  53,   0,   7,   0,   0,   0,   0],\n",
    "       [  0,  19,   0,   0,   0,  36, 198, 255, 238, 255, 255, 232, 255,   248, 255, 249,  255, 255, 241, 255, 227,   0,   2,   0,   0,   0,   0,   0],\n",
    "       [ 15,   0,   7,   0,   4,  15,  15,  88, 155, 194, 255, 236, 252,   253, 227, 255,  177, 151,  76, 157, 255,  46,   1,   5,   0,   0,   0,   0],\n",
    "       [  0,   0,   1,   5,   0,   0,   3,   0,   7,   0,   0,  15,   3,   0,  13,   0,    10,   0,   0,  22, 248,  61,   0,   0,   0,   0,   0,   0],\n",
    "       [  0,   0,   0,   0,   0,   0,   0,   0,   2,   4,   0,   0,   4,   1,   0,   2,    0,  15,   0, 105, 248,  53,  11,   0,   0,   0,   0,   0],\n",
    "       [  0,   0,   0,   0,   0,   0,   0,   0,   0,   6,   8,   0,   0,   0,   0,   0,    0,   0,   0, 164, 255,  64,   0,  13,   0,   0,   0,   0],\n",
    "       [  0,   0,   0,   0,   0,   0,   0,   0,   0,   0,   0,   4,   4,   11,  11,  0,    8,  25,   0, 167, 252, 249,  33,   0,   0,   0,   0,   0],\n",
    "       [  0,   0,   0,   0,   0,   0,   0,   0,  10,   0,   0,   4,   0,   0,   0,   0,    0,   0,  60, 250, 235,  32,   3,   6,   0,   0,   0,   0],\n",
    "       [  0,   0,   0,   0,   0,   0,   0,   0,   1,   0,   1,   0,   0,   0,   6,   13,   7,   0, 240, 255, 121,   0,   5,   0,   0,   0,   0,   0],\n",
    "       [  0,   0,   0,   0,   0,   0,   0,   0,   0,   7,   2,   0,   8,   17,  2,   0,    22, 160, 255, 161,   4,   3,   1,   8,   0,   0,   0,   0],\n",
    "       [  0,   0,   0,   0,   0,   0,   0,   0,   0,  13,   0,   0,   7,   0,   0,   5,    164, 255, 182,   0,   0,  20,   0,   8,   0,   0,  0,   0],\n",
    "       [  0,   0,   0,   0,   0,   0,   0,   0,   0,   7,   0,   0,   9,   0,   44,  172,  255, 239,   0,   3,   8,   0,   3,   0,   0,   0,   0,   0],\n",
    "       [  0,   0,   0,   0,   0,   0,   0,   0,  11,   0,   0,  17,   0,   0,   208, 245,  228,  65,   0,  10,   5,   0,   2,   0,   0,   0,  0,   0],\n",
    "       [  0,   0,   0,   0,   0,   0,   0,   0,   0,   0,   5,   0,   0,   185, 238, 185,  37,   0,   0,   5,   0,   0,  12,   3,   0,   0,   0,   0],\n",
    "       [  0,   0,   0,   0,   0,   0,   0,   0,   1,   0,   0,   0,   6,   190,  98,  6,   0,   1,  11,   5,   0,   4,   7,   0,   0,   0,   0,   0],\n",
    "       [  0,   0,   0,   0,   0,   0,   0,   0,   0,   5,  12,  13,   0,   13,   0,   0,   11,   6,   0,   0,   0,   3,   0,   0,   0,   0,   0,   0]], "
   ]
  },
  {
   "cell_type": "code",
   "execution_count": 14,
   "metadata": {},
   "outputs": [
    {
     "data": {
      "text/plain": [
       "<matplotlib.image.AxesImage at 0x14c7d933278>"
      ]
     },
     "execution_count": 14,
     "metadata": {},
     "output_type": "execute_result"
    },
    {
     "data": {
      "image/png": "[encoded data removed]",
      "text/plain": [
       "<Figure size 864x576 with 1 Axes>"
      ]
     },
     "metadata": {},
     "output_type": "display_data"
    }
   ],
   "source": [
    "#from io import StringIO\n",
    "from matplotlib import pyplot as plt # 시각화\n",
    "from PIL import Image #이미지를 표현하는 Image 클래스\n",
    "%matplotlib inline\n",
    "IMAGE_SIZE = (12, 8)\n",
    "image = Image.open('trainingSet/9_nine/img_41975.jpg')  \n",
    "# 이미지 그리기\n",
    "plt.figure(figsize=IMAGE_SIZE)\n",
    "plt.imshow(image)"
   ]
  },
  {
   "cell_type": "code",
   "execution_count": 10,
   "metadata": {},
   "outputs": [],
   "source": [
    "train_input = np.reshape(train_input, (-1, 784))\n",
    "train_label = np.reshape(train_label, (-1, 10))\n",
    "train_input = np.array(train_input).astype(np.float32)\n",
    "train_label = np.array(train_label).astype(np.float32)\n",
    "np.save(\"train_data.npy\", train_input)\n",
    "np.save(\"train_label.npy\", train_label)"
   ]
  },
  {
   "cell_type": "code",
   "execution_count": 11,
   "metadata": {},
   "outputs": [],
   "source": [
    "TEST_DIR = 'C:/Users/ktm/Documents/My/testSet/'\n",
    "test_folder_list = array(os.listdir(TEST_DIR))"
   ]
  },
  {
   "cell_type": "code",
   "execution_count": 12,
   "metadata": {},
   "outputs": [],
   "source": [
    "test_input = []\n",
    "test_label = []"
   ]
  },
  {
   "cell_type": "code",
   "execution_count": 13,
   "metadata": {},
   "outputs": [],
   "source": [
    "label_encoder = LabelEncoder()\n",
    "integer_encoded = label_encoder.fit_transform(test_folder_list)\n",
    " \n",
    "onehot_encoder = OneHotEncoder(sparse=False) \n",
    "integer_encoded = integer_encoded.reshape(len(integer_encoded), 1)\n",
    "onehot_encoded = onehot_encoder.fit_transform(integer_encoded)"
   ]
  },
  {
   "cell_type": "code",
   "execution_count": 14,
   "metadata": {},
   "outputs": [],
   "source": [
    "for index in range(len(test_folder_list)):\n",
    "    path = os.path.join(TEST_DIR, test_folder_list[index])\n",
    "    path = path + '/'\n",
    "    img_list = os.listdir(path)\n",
    "    for img in img_list:\n",
    "        img_path = os.path.join(path, img)\n",
    "        img = cv2.imread(img_path, cv2.IMREAD_GRAYSCALE)\n",
    "        test_input.append([np.array(img)])\n",
    "        test_label.append([np.array(onehot_encoded[index])])"
   ]
  },
  {
   "cell_type": "code",
   "execution_count": 15,
   "metadata": {},
   "outputs": [],
   "source": [
    "test_input = np.reshape(test_input, (-1, 784))\n",
    "test_label = np.reshape(test_label, (-1, 10))\n",
    "test_input = np.array(test_input).astype(np.float32)\n",
    "test_label = np.array(test_label).astype(np.float32)\n",
    "np.save(\"test_input.npy\",test_input)\n",
    "np.save(\"test_label.npy\",test_label)"
   ]
  },
  {
   "cell_type": "code",
   "execution_count": 16,
   "metadata": {},
   "outputs": [
    {
     "name": "stderr",
     "output_type": "stream",
     "text": [
      "C:\\Users\\ktm\\Anaconda3\\lib\\site-packages\\h5py\\__init__.py:36: FutureWarning: Conversion of the second argument of issubdtype from `float` to `np.floating` is deprecated. In future, it will be treated as `np.float64 == np.dtype(float).type`.\n",
      "  from ._conv import register_converters as _register_converters\n"
     ]
    }
   ],
   "source": [
    "import tensorflow as tf"
   ]
  },
  {
   "cell_type": "code",
   "execution_count": 17,
   "metadata": {},
   "outputs": [],
   "source": [
    "learning_rate = 0.001"
   ]
  },
  {
   "cell_type": "code",
   "execution_count": 18,
   "metadata": {},
   "outputs": [],
   "source": [
    "# input place holders\n",
    "X = tf.placeholder(tf.float32, [None, 784])\n",
    "X_img = tf.reshape(X, [-1, 28, 28, 1])   # img 28x28x1 (black/white)\n",
    "Y = tf.placeholder(tf.float32, [None, 10])\n",
    " \n",
    "W1 = tf.Variable(tf.random_normal([3, 3, 1, 32], stddev=0.01))\n",
    "L1 = tf.nn.conv2d(X_img, W1, strides=[1, 1, 1, 1], padding='SAME')\n",
    "L1 = tf.nn.relu(L1)\n",
    "L1 = tf.nn.max_pool(L1, ksize=[1, 2, 2, 1], strides=[1, 2, 2, 1], padding='SAME')\n",
    " \n",
    "W2 = tf.Variable(tf.random_normal([3, 3, 32, 64], stddev=0.01))\n",
    "L2 = tf.nn.conv2d(L1, W2, strides=[1, 1, 1, 1], padding='SAME')\n",
    "L2 = tf.nn.relu(L2)\n",
    "L2 = tf.nn.max_pool(L2, ksize=[1, 2, 2, 1], strides=[1, 2, 2, 1], padding='SAME')\n",
    " \n",
    "L2_flat = tf.reshape(L2, [-1, 7 * 7 * 64])\n",
    "W3 = tf.get_variable(\"W3\", shape=[7 * 7 * 64, 10], initializer=tf.contrib.layers.xavier_initializer())\n",
    "b = tf.Variable(tf.random_normal([10]))\n",
    "logits = tf.matmul(L2_flat, W3) + b"
   ]
  },
  {
   "cell_type": "code",
   "execution_count": 19,
   "metadata": {},
   "outputs": [
    {
     "name": "stdout",
     "output_type": "stream",
     "text": [
      "WARNING:tensorflow:From <ipython-input-19-c8da5cbab923>:3: softmax_cross_entropy_with_logits (from tensorflow.python.ops.nn_ops) is deprecated and will be removed in a future version.\n",
      "Instructions for updating:\n",
      "\n",
      "Future major versions of TensorFlow will allow gradients to flow\n",
      "into the labels input on backprop by default.\n",
      "\n",
      "See `tf.nn.softmax_cross_entropy_with_logits_v2`.\n",
      "\n"
     ]
    }
   ],
   "source": [
    "# define cost/loss &amp;amp;amp; optimizer\n",
    "cost = tf.reduce_mean(tf.nn.softmax_cross_entropy_with_logits(\n",
    "    logits=logits, labels=Y))\n",
    "optimizer = tf.train.AdamOptimizer(learning_rate=learning_rate).minimize(cost)"
   ]
  },
  {
   "cell_type": "code",
   "execution_count": 20,
   "metadata": {},
   "outputs": [],
   "source": [
    "training_epochs = 15\n",
    "batch_size = 100\n",
    " \n",
    "# initialize\n",
    "sess = tf.Session()\n",
    "sess.run(tf.global_variables_initializer())"
   ]
  },
  {
   "cell_type": "code",
   "execution_count": 21,
   "metadata": {
    "scrolled": true
   },
   "outputs": [
    {
     "name": "stdout",
     "output_type": "stream",
     "text": [
      "Learning started. It takes sometime.\n",
      "Epoch: 0001 cost = 3.224603932\n",
      "Epoch: 0002 cost = 2.751630286\n",
      "Epoch: 0003 cost = 2.098845088\n",
      "Epoch: 0004 cost = 1.285145179\n",
      "Epoch: 0005 cost = 1.060726136\n",
      "Epoch: 0006 cost = 0.788355881\n",
      "Epoch: 0007 cost = 0.599898618\n",
      "Epoch: 0008 cost = 0.510451455\n",
      "Epoch: 0009 cost = 0.461249884\n",
      "Epoch: 0010 cost = 0.409278708\n",
      "Epoch: 0011 cost = 0.374977395\n",
      "Epoch: 0012 cost = 0.377067543\n",
      "Epoch: 0013 cost = 0.379765579\n",
      "Epoch: 0014 cost = 0.351649623\n",
      "Epoch: 0015 cost = 0.343993423\n",
      "Learning Finished!\n"
     ]
    }
   ],
   "source": [
    "# train my model\n",
    "print('Learning started. It takes sometime.')\n",
    "for epoch in range(training_epochs):\n",
    "    avg_cost = 0\n",
    "    total_batch = int(len(train_input) / batch_size)\n",
    " \n",
    "    for i in range(total_batch):\n",
    "        start = ((i+1) * batch_size) - batch_size\n",
    "        end = ((i+1) * batch_size)\n",
    "        batch_xs = train_input[start:end]\n",
    "        batch_ys = train_label[start:end]\n",
    "        feed_dict = {X: batch_xs, Y: batch_ys}\n",
    "        c, _ = sess.run([cost, optimizer], feed_dict=feed_dict)\n",
    "        avg_cost += c / total_batch\n",
    " \n",
    "    print('Epoch:', '%04d' % (epoch + 1), 'cost =', '{:.9f}'.format(avg_cost))\n",
    " \n",
    "print('Learning Finished!')"
   ]
  },
  {
   "cell_type": "code",
   "execution_count": null,
   "metadata": {},
   "outputs": [],
   "source": []
  }
 ],
 "metadata": {
  "kernelspec": {
   "display_name": "Python 3",
   "language": "python",
   "name": "python3"
  },
  "language_info": {
   "codemirror_mode": {
    "name": "ipython",
    "version": 3
   },
   "file_extension": ".py",
   "mimetype": "text/x-python",
   "name": "python",
   "nbconvert_exporter": "python",
   "pygments_lexer": "ipython3",
   "version": "3.6.5"
  }
 },
 "nbformat": 4,
 "nbformat_minor": 2
}
